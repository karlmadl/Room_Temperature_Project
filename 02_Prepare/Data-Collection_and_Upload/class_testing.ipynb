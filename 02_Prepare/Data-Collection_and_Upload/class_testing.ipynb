{
 "cells": [
  {
   "cell_type": "code",
   "execution_count": 36,
   "metadata": {},
   "outputs": [],
   "source": [
    "import data_collection_functions as dcf\n",
    "from datetime import datetime, date\n",
    "from user_info import My_SQL_credentials as CREDS   # imports dictionary of MySQL credentials and info (database, table)\n",
    "from mysql.connector import connect, Error"
   ]
  },
  {
   "cell_type": "code",
   "execution_count": 55,
   "metadata": {},
   "outputs": [],
   "source": [
    "class Data:\n",
    "\n",
    "    def __init__(self):\n",
    "\n",
    "        self.time = datetime.now().strftime(\"%H:%M\")\n",
    "        self.date = date.today()\n",
    "        self.season = dcf.get_season()\n",
    "        self.inside_temperature = dcf.temperature_reader()\n",
    "        self.outside_temperature = dcf.weather_temperature()\n",
    "\n",
    "    \n",
    "    @property\n",
    "    def data(self):\n",
    "        return vars(self)\n",
    "\n",
    "\n",
    "    def insert_into_MySQL(self):\n",
    "    \n",
    "        query = f\"INSERT INTO {CREDS['table']} ({', '.join(self.data)}) VALUES ({('%s, '*len(self.data)).rstrip(', ')})\"   # The '%s's are placeholders for args list\n",
    "        args = [*self.data.values()]\n",
    "\n",
    "        try:\n",
    "            with connect(\n",
    "                host = CREDS['host'],\n",
    "                user = CREDS['user'],\n",
    "                password = CREDS['password'],\n",
    "                database = CREDS['database']\n",
    "            ) as connection:\n",
    "\n",
    "                cursor = connection.cursor()\n",
    "                cursor.execute(query, args)\n",
    "                \n",
    "                connection.commit()\n",
    "\n",
    "        except Error as e:\n",
    "            return e\n"
   ]
  },
  {
   "cell_type": "code",
   "execution_count": 56,
   "metadata": {},
   "outputs": [],
   "source": [
    "rn = Data()"
   ]
  },
  {
   "cell_type": "code",
   "execution_count": 61,
   "metadata": {},
   "outputs": [
    {
     "data": {
      "text/plain": [
       "['INSERT INTO  (time, date, season, inside_temperature, outside_temperature) VALUES (%s, %s, %s, %s, %s)',\n",
       " ['17:35', datetime.date(2022, 4, 2), 'spring', 68, 53]]"
      ]
     },
     "execution_count": 61,
     "metadata": {},
     "output_type": "execute_result"
    }
   ],
   "source": [
    "rn.insert_into_MySQL()"
   ]
  },
  {
   "cell_type": "code",
   "execution_count": 49,
   "metadata": {},
   "outputs": [],
   "source": [
    "class Person:\n",
    "    def __init__(self, f, l):\n",
    "        self.first = f\n",
    "        self.last = l\n",
    "\n",
    "    def meth(self):\n",
    "        return [self.check[i] for i in self.check]\n",
    "\n",
    "    @property\n",
    "    def check(self):\n",
    "        return vars(self)\n"
   ]
  },
  {
   "cell_type": "code",
   "execution_count": 50,
   "metadata": {},
   "outputs": [],
   "source": [
    "test = Person(1, 2)"
   ]
  },
  {
   "cell_type": "code",
   "execution_count": 52,
   "metadata": {},
   "outputs": [
    {
     "data": {
      "text/plain": [
       "[1, 2]"
      ]
     },
     "execution_count": 52,
     "metadata": {},
     "output_type": "execute_result"
    }
   ],
   "source": [
    "test.meth()"
   ]
  },
  {
   "cell_type": "code",
   "execution_count": 6,
   "metadata": {},
   "outputs": [],
   "source": [
    "import requests\n",
    "from bs4 import BeautifulSoup"
   ]
  },
  {
   "cell_type": "code",
   "execution_count": 13,
   "metadata": {},
   "outputs": [
    {
     "name": "stdout",
     "output_type": "stream",
     "text": [
      "200\n"
     ]
    }
   ],
   "source": [
    "try:\n",
    "    r = requests.get(\"http://google.com\")\n",
    "except Exception as e:\n",
    "    print(e)\n",
    "else:\n",
    "    print(r.status_code)"
   ]
  },
  {
   "cell_type": "code",
   "execution_count": 67,
   "metadata": {},
   "outputs": [
    {
     "data": {
      "text/plain": [
       "'41'"
      ]
     },
     "execution_count": 67,
     "metadata": {},
     "output_type": "execute_result"
    }
   ],
   "source": [
    "soup = BeautifulSoup(r.text, 'lxml')\n",
    "\n",
    "soup.find('span', {'class': \"wu-value wu-value-to\"}).text"
   ]
  },
  {
   "cell_type": "code",
   "execution_count": 17,
   "metadata": {},
   "outputs": [
    {
     "name": "stdout",
     "output_type": "stream",
     "text": [
      "dummy\n"
     ]
    }
   ],
   "source": [
    "try:\n",
    "    print(11/0)\n",
    "except NameError:\n",
    "    print(\"Variable not defined\")\n",
    "except Exception:\n",
    "    print('dummy')"
   ]
  }
 ],
 "metadata": {
  "interpreter": {
   "hash": "481fbf580910604266a6f69ab2a40cb7227f9edac014d0d3ebcb939174d08ed7"
  },
  "kernelspec": {
   "display_name": "Python 3.9.0 64-bit",
   "language": "python",
   "name": "python3"
  },
  "language_info": {
   "codemirror_mode": {
    "name": "ipython",
    "version": 3
   },
   "file_extension": ".py",
   "mimetype": "text/x-python",
   "name": "python",
   "nbconvert_exporter": "python",
   "pygments_lexer": "ipython3",
   "version": "3.9.0"
  },
  "orig_nbformat": 4
 },
 "nbformat": 4,
 "nbformat_minor": 2
}
